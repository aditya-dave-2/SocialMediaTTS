{
 "cells": [
  {
   "cell_type": "code",
   "execution_count": 32,
   "metadata": {},
   "outputs": [
    {
     "data": {
      "text/plain": [
       "Index(['Unnamed: 0.1', 'Unnamed: 0', 'image', 'prediction', 'search_param',\n",
       "       'ground_truth', 'score_method4', 'score_method5'],\n",
       "      dtype='object')"
      ]
     },
     "execution_count": 32,
     "metadata": {},
     "output_type": "execute_result"
    }
   ],
   "source": [
    "import pandas as pd\n",
    "import pickle\n",
    "from nltk.translate import bleu_score\n",
    "from nltk.tokenize import word_tokenize\n",
    "\n",
    "# with open('descriptions.pkl','rb') as f:\n",
    "#     descriptions = pickle.load(f)\n",
    "\n",
    "df = pd.read_csv(\"final_eval_with_scores_bleu.csv\")\n",
    "df.columns"
   ]
  },
  {
   "cell_type": "code",
   "execution_count": 33,
   "metadata": {},
   "outputs": [
    {
     "data": {
      "text/html": [
       "<div>\n",
       "<style scoped>\n",
       "    .dataframe tbody tr th:only-of-type {\n",
       "        vertical-align: middle;\n",
       "    }\n",
       "\n",
       "    .dataframe tbody tr th {\n",
       "        vertical-align: top;\n",
       "    }\n",
       "\n",
       "    .dataframe thead th {\n",
       "        text-align: right;\n",
       "    }\n",
       "</style>\n",
       "<table border=\"1\" class=\"dataframe\">\n",
       "  <thead>\n",
       "    <tr style=\"text-align: right;\">\n",
       "      <th></th>\n",
       "      <th>prediction</th>\n",
       "      <th>ground_truth</th>\n",
       "      <th>score_method4</th>\n",
       "      <th>score_method5</th>\n",
       "    </tr>\n",
       "    <tr>\n",
       "      <th>image</th>\n",
       "      <th></th>\n",
       "      <th></th>\n",
       "      <th></th>\n",
       "      <th></th>\n",
       "    </tr>\n",
       "  </thead>\n",
       "  <tbody>\n",
       "    <tr>\n",
       "      <th>317488612_70ac35493b.jpg</th>\n",
       "      <td>the white dog is running through the snow</td>\n",
       "      <td>['a dog is playing in the deep snow ', 'a dog ...</td>\n",
       "      <td>1.000000</td>\n",
       "      <td>1.000000</td>\n",
       "    </tr>\n",
       "    <tr>\n",
       "      <th>2891617125_f939f604c7.jpg</th>\n",
       "      <td>a man rides a dirt bike on a dirt road</td>\n",
       "      <td>['a man on a motorized bike rides across a dir...</td>\n",
       "      <td>0.840896</td>\n",
       "      <td>0.840896</td>\n",
       "    </tr>\n",
       "    <tr>\n",
       "      <th>1332722096_1e3de8ae70.jpg</th>\n",
       "      <td>two women wearing skirts walk down the street</td>\n",
       "      <td>['three women standing on a city street ', 'th...</td>\n",
       "      <td>0.795271</td>\n",
       "      <td>0.795271</td>\n",
       "    </tr>\n",
       "    <tr>\n",
       "      <th>3245912109_fdeef6b456.jpg</th>\n",
       "      <td>there is a group of 5 people walking past a wh...</td>\n",
       "      <td>['a crowd of people in wintergear is standing ...</td>\n",
       "      <td>0.780116</td>\n",
       "      <td>0.780116</td>\n",
       "    </tr>\n",
       "    <tr>\n",
       "      <th>3162045919_c2decbb69b.jpg</th>\n",
       "      <td>a man on a surfboard rides a wave</td>\n",
       "      <td>['a lone surfer on a white surfboard atop a hu...</td>\n",
       "      <td>0.750624</td>\n",
       "      <td>0.750624</td>\n",
       "    </tr>\n",
       "    <tr>\n",
       "      <th>1523984678_edd68464da.jpg</th>\n",
       "      <td>a black and white dog is running across the grass</td>\n",
       "      <td>['a dog is running with a yellow tennis ball a...</td>\n",
       "      <td>0.731110</td>\n",
       "      <td>0.731110</td>\n",
       "    </tr>\n",
       "    <tr>\n",
       "      <th>1119015538_e8e796281e.jpg</th>\n",
       "      <td>a white dog runs through the grass carrying a ...</td>\n",
       "      <td>['a little tan dog with large ears running thr...</td>\n",
       "      <td>0.707107</td>\n",
       "      <td>0.707107</td>\n",
       "    </tr>\n",
       "    <tr>\n",
       "      <th>3004823335_9b82cbd8a7.jpg</th>\n",
       "      <td>a black and white dog is running through the g...</td>\n",
       "      <td>['a black and white dog looking up ', 'a black...</td>\n",
       "      <td>0.707107</td>\n",
       "      <td>0.707107</td>\n",
       "    </tr>\n",
       "    <tr>\n",
       "      <th>3470951932_27ed74eb0b.jpg</th>\n",
       "      <td>there is a child in a baseball game</td>\n",
       "      <td>['a boy in a baseball uniform runs the bases '...</td>\n",
       "      <td>0.707107</td>\n",
       "      <td>0.707107</td>\n",
       "    </tr>\n",
       "    <tr>\n",
       "      <th>3613800013_5a54968ab0.jpg</th>\n",
       "      <td>a white dog runs along the grass</td>\n",
       "      <td>['a brown and white dog is running with its mo...</td>\n",
       "      <td>0.707107</td>\n",
       "      <td>0.707107</td>\n",
       "    </tr>\n",
       "  </tbody>\n",
       "</table>\n",
       "</div>"
      ],
      "text/plain": [
       "                                                                  prediction  \\\n",
       "image                                                                          \n",
       "317488612_70ac35493b.jpg           the white dog is running through the snow   \n",
       "2891617125_f939f604c7.jpg             a man rides a dirt bike on a dirt road   \n",
       "1332722096_1e3de8ae70.jpg      two women wearing skirts walk down the street   \n",
       "3245912109_fdeef6b456.jpg  there is a group of 5 people walking past a wh...   \n",
       "3162045919_c2decbb69b.jpg                  a man on a surfboard rides a wave   \n",
       "1523984678_edd68464da.jpg  a black and white dog is running across the grass   \n",
       "1119015538_e8e796281e.jpg  a white dog runs through the grass carrying a ...   \n",
       "3004823335_9b82cbd8a7.jpg  a black and white dog is running through the g...   \n",
       "3470951932_27ed74eb0b.jpg                there is a child in a baseball game   \n",
       "3613800013_5a54968ab0.jpg                   a white dog runs along the grass   \n",
       "\n",
       "                                                                ground_truth  \\\n",
       "image                                                                          \n",
       "317488612_70ac35493b.jpg   ['a dog is playing in the deep snow ', 'a dog ...   \n",
       "2891617125_f939f604c7.jpg  ['a man on a motorized bike rides across a dir...   \n",
       "1332722096_1e3de8ae70.jpg  ['three women standing on a city street ', 'th...   \n",
       "3245912109_fdeef6b456.jpg  ['a crowd of people in wintergear is standing ...   \n",
       "3162045919_c2decbb69b.jpg  ['a lone surfer on a white surfboard atop a hu...   \n",
       "1523984678_edd68464da.jpg  ['a dog is running with a yellow tennis ball a...   \n",
       "1119015538_e8e796281e.jpg  ['a little tan dog with large ears running thr...   \n",
       "3004823335_9b82cbd8a7.jpg  ['a black and white dog looking up ', 'a black...   \n",
       "3470951932_27ed74eb0b.jpg  ['a boy in a baseball uniform runs the bases '...   \n",
       "3613800013_5a54968ab0.jpg  ['a brown and white dog is running with its mo...   \n",
       "\n",
       "                           score_method4  score_method5  \n",
       "image                                                    \n",
       "317488612_70ac35493b.jpg        1.000000       1.000000  \n",
       "2891617125_f939f604c7.jpg       0.840896       0.840896  \n",
       "1332722096_1e3de8ae70.jpg       0.795271       0.795271  \n",
       "3245912109_fdeef6b456.jpg       0.780116       0.780116  \n",
       "3162045919_c2decbb69b.jpg       0.750624       0.750624  \n",
       "1523984678_edd68464da.jpg       0.731110       0.731110  \n",
       "1119015538_e8e796281e.jpg       0.707107       0.707107  \n",
       "3004823335_9b82cbd8a7.jpg       0.707107       0.707107  \n",
       "3470951932_27ed74eb0b.jpg       0.707107       0.707107  \n",
       "3613800013_5a54968ab0.jpg       0.707107       0.707107  "
      ]
     },
     "execution_count": 33,
     "metadata": {},
     "output_type": "execute_result"
    }
   ],
   "source": [
    "grouped_df = df.groupby(['image']).max()[['prediction','ground_truth','score_method4','score_method5']]\n",
    "grouped_df.nlargest(n=10, columns=['score_method5'])"
   ]
  },
  {
   "cell_type": "markdown",
   "metadata": {},
   "source": [
    "Clearly. bleu with 10 as the parameter gives the best results."
   ]
  },
  {
   "cell_type": "code",
   "execution_count": null,
   "metadata": {},
   "outputs": [],
   "source": []
  }
 ],
 "metadata": {
  "interpreter": {
   "hash": "fa4211736c423930c0c3897c9e2a2ad74fbe0246fc940ec89c39402c372ffa5c"
  },
  "kernelspec": {
   "display_name": "Python 3.8.10 ('env')",
   "language": "python",
   "name": "python3"
  },
  "language_info": {
   "codemirror_mode": {
    "name": "ipython",
    "version": 3
   },
   "file_extension": ".py",
   "mimetype": "text/x-python",
   "name": "python",
   "nbconvert_exporter": "python",
   "pygments_lexer": "ipython3",
   "version": "3.8.10"
  },
  "orig_nbformat": 4
 },
 "nbformat": 4,
 "nbformat_minor": 2
}
