{
  "nbformat": 4,
  "nbformat_minor": 0,
  "metadata": {
    "colab": {
      "name": "ttts.ipynb",
      "provenance": [],
      "collapsed_sections": []
    },
    "kernelspec": {
      "name": "python3",
      "display_name": "Python 3"
    },
    "language_info": {
      "name": "python"
    }
  },
  "cells": [
    {
      "cell_type": "code",
      "execution_count": null,
      "metadata": {
        "colab": {
          "base_uri": "https://localhost:8080/"
        },
        "id": "mwNV_L3wz_ft",
        "outputId": "5b9776b8-5a43-4cd2-8324-b2c22c0ccb2a"
      },
      "outputs": [
        {
          "output_type": "stream",
          "name": "stdout",
          "text": [
            "Collecting TensorFlowTTS\n",
            "  Downloading TensorFlowTTS-1.8-py3-none-any.whl (128 kB)\n",
            "\u001b[?25l\r\u001b[K     |██▌                             | 10 kB 18.6 MB/s eta 0:00:01\r\u001b[K     |█████                           | 20 kB 6.3 MB/s eta 0:00:01\r\u001b[K     |███████▋                        | 30 kB 3.2 MB/s eta 0:00:01\r\u001b[K     |██████████▏                     | 40 kB 4.1 MB/s eta 0:00:01\r\u001b[K     |████████████▊                   | 51 kB 3.5 MB/s eta 0:00:01\r\u001b[K     |███████████████▎                | 61 kB 4.1 MB/s eta 0:00:01\r\u001b[K     |█████████████████▉              | 71 kB 4.1 MB/s eta 0:00:01\r\u001b[K     |████████████████████▍           | 81 kB 4.1 MB/s eta 0:00:01\r\u001b[K     |███████████████████████         | 92 kB 4.5 MB/s eta 0:00:01\r\u001b[K     |█████████████████████████▌      | 102 kB 4.5 MB/s eta 0:00:01\r\u001b[K     |████████████████████████████    | 112 kB 4.5 MB/s eta 0:00:01\r\u001b[K     |██████████████████████████████▋ | 122 kB 4.5 MB/s eta 0:00:01\r\u001b[K     |████████████████████████████████| 128 kB 4.5 MB/s \n",
            "\u001b[?25hRequirement already satisfied: PyYAML>=3.12 in /usr/local/lib/python3.7/dist-packages (from TensorFlowTTS) (3.13)\n",
            "Requirement already satisfied: click in /usr/local/lib/python3.7/dist-packages (from TensorFlowTTS) (7.1.2)\n",
            "Collecting dataclasses\n",
            "  Downloading dataclasses-0.6-py3-none-any.whl (14 kB)\n",
            "Collecting huggingface-hub==0.0.8\n",
            "  Downloading huggingface_hub-0.0.8-py3-none-any.whl (34 kB)\n",
            "Collecting numba<=0.48\n",
            "  Downloading numba-0.48.0-1-cp37-cp37m-manylinux2014_x86_64.whl (3.5 MB)\n",
            "\u001b[K     |████████████████████████████████| 3.5 MB 39.8 MB/s \n",
            "\u001b[?25hCollecting tensorflow-addons>=0.10.0\n",
            "  Downloading tensorflow_addons-0.16.1-cp37-cp37m-manylinux_2_12_x86_64.manylinux2010_x86_64.whl (1.1 MB)\n",
            "\u001b[K     |████████████████████████████████| 1.1 MB 5.5 MB/s \n",
            "\u001b[?25hCollecting textgrid\n",
            "  Downloading TextGrid-1.5-py3-none-any.whl (10.0 kB)\n",
            "Requirement already satisfied: librosa>=0.7.0 in /usr/local/lib/python3.7/dist-packages (from TensorFlowTTS) (0.8.1)\n",
            "Collecting pyworld>=0.2.10\n",
            "  Downloading pyworld-0.3.0.tar.gz (212 kB)\n",
            "\u001b[K     |████████████████████████████████| 212 kB 6.4 MB/s \n"
          ]
        }
      ],
      "source": [
        "!pip install TensorFlowTTS\n",
        "!pip install git+https://github.com/repodiac/german_transliterate.git#egg=german_transliterate\n",
        "import numpy as np\n",
        "import soundfile as sf\n",
        "import yaml\n",
        "\n",
        "import tensorflow as tf\n",
        "\n",
        "from tensorflow_tts.inference import TFAutoModel\n",
        "from tensorflow_tts.inference import AutoProcessor\n",
        "\n",
        "# initialize fastspeech2 model.\n",
        "fastspeech2 = TFAutoModel.from_pretrained(\"tensorspeech/tts-fastspeech2-ljspeech-en\")\n",
        "\n",
        "\n",
        "# initialize mb_melgan model\n",
        "mb_melgan = TFAutoModel.from_pretrained(\"tensorspeech/tts-mb_melgan-ljspeech-en\")\n",
        "\n",
        "\n",
        "# inference\n",
        "processor = AutoProcessor.from_pretrained(\"tensorspeech/tts-fastspeech2-ljspeech-en\")\n",
        "\n",
        "input_ids = processor.text_to_sequence(\"We will use tensorflow but i am not happy about it but whatever\")\n",
        "# fastspeech inference\n",
        "\n",
        "mel_before, mel_after, duration_outputs, _, _ = fastspeech2.inference(\n",
        "    input_ids=tf.expand_dims(tf.convert_to_tensor(input_ids, dtype=tf.int32), 0),\n",
        "    speaker_ids=tf.convert_to_tensor([0], dtype=tf.int32),\n",
        "    speed_ratios=tf.convert_to_tensor([1.0], dtype=tf.float32),\n",
        "    f0_ratios =tf.convert_to_tensor([1.0], dtype=tf.float32),\n",
        "    energy_ratios =tf.convert_to_tensor([1.0], dtype=tf.float32),\n",
        ")\n",
        "\n",
        "# melgan inference\n",
        "audio_before = mb_melgan.inference(mel_before)[0, :, 0]\n",
        "audio_after = mb_melgan.inference(mel_after)[0, :, 0]\n",
        "\n",
        "# save to file\n",
        "sf.write('./audio_before.wav', audio_before, 22050, \"PCM_16\")\n",
        "sf.write('./audio_after.wav', audio_after, 22050, \"PCM_16\")\n"
      ]
    }
  ]
}